{
  "nbformat": 4,
  "nbformat_minor": 0,
  "metadata": {
    "colab": {
      "provenance": [],
      "toc_visible": true,
      "authorship_tag": "ABX9TyNjOt7wRzeBMSZkDkUc+iiR",
      "include_colab_link": true
    },
    "kernelspec": {
      "name": "python3",
      "display_name": "Python 3"
    },
    "language_info": {
      "name": "python"
    }
  },
  "cells": [
    {
      "cell_type": "markdown",
      "metadata": {
        "id": "view-in-github",
        "colab_type": "text"
      },
      "source": [
        "<a href=\"https://colab.research.google.com/github/AUT-Student/CN-HW2/blob/main/CN_HW2_Q2.ipynb\" target=\"_parent\"><img src=\"https://colab.research.google.com/assets/colab-badge.svg\" alt=\"Open In Colab\"/></a>"
      ]
    },
    {
      "cell_type": "markdown",
      "source": [
        "<center><b>In the name of God</b></center>\n",
        "\n",
        "<b>Course</b>: Complex Network\n",
        "<br>\n",
        "<b>Description:</b> HomeWork 2 | Question 2\n",
        "<br>\n",
        "<b>Developer</b>: Alireza Mazochi (400131075)"
      ],
      "metadata": {
        "id": "FXFctnsgQ820"
      }
    },
    {
      "cell_type": "markdown",
      "source": [
        "# Libraries"
      ],
      "metadata": {
        "id": "UGGUNgC-NKFK"
      }
    },
    {
      "cell_type": "code",
      "source": [
        "import networkx as nx\n",
        "import numpy as np\n",
        "import pandas as pd\n",
        "import matplotlib.pyplot as plt"
      ],
      "metadata": {
        "id": "3z3h_S8jNV5p"
      },
      "execution_count": 1,
      "outputs": []
    },
    {
      "cell_type": "code",
      "source": [
        "!pip install --upgrade scipy networkx"
      ],
      "metadata": {
        "colab": {
          "base_uri": "https://localhost:8080/"
        },
        "id": "g_V6NBXOw5IO",
        "outputId": "bc86393d-98bd-4da1-c61f-a6dc0db35df8"
      },
      "execution_count": 2,
      "outputs": [
        {
          "output_type": "stream",
          "name": "stdout",
          "text": [
            "Looking in indexes: https://pypi.org/simple, https://us-python.pkg.dev/colab-wheels/public/simple/\n",
            "Requirement already satisfied: scipy in /usr/local/lib/python3.8/dist-packages (1.7.3)\n",
            "Collecting scipy\n",
            "  Downloading scipy-1.10.0-cp38-cp38-manylinux_2_17_x86_64.manylinux2014_x86_64.whl (34.5 MB)\n",
            "\u001b[2K     \u001b[90m━━━━━━━━━━━━━━━━━━━━━━━━━━━━━━━━━━━━━━━━\u001b[0m \u001b[32m34.5/34.5 MB\u001b[0m \u001b[31m6.5 MB/s\u001b[0m eta \u001b[36m0:00:00\u001b[0m\n",
            "\u001b[?25hRequirement already satisfied: networkx in /usr/local/lib/python3.8/dist-packages (3.0)\n",
            "Requirement already satisfied: numpy<1.27.0,>=1.19.5 in /usr/local/lib/python3.8/dist-packages (from scipy) (1.21.6)\n",
            "Installing collected packages: scipy\n",
            "  Attempting uninstall: scipy\n",
            "    Found existing installation: scipy 1.7.3\n",
            "    Uninstalling scipy-1.7.3:\n",
            "      Successfully uninstalled scipy-1.7.3\n",
            "Successfully installed scipy-1.10.0\n"
          ]
        }
      ]
    },
    {
      "cell_type": "markdown",
      "source": [
        "# Dataset"
      ],
      "metadata": {
        "id": "MZ1Iyw1DGToy"
      }
    },
    {
      "cell_type": "code",
      "execution_count": 3,
      "metadata": {
        "colab": {
          "base_uri": "https://localhost:8080/"
        },
        "id": "u6-mqNLMEg-3",
        "outputId": "6c0e6289-f246-4194-9132-738a1523c60c"
      },
      "outputs": [
        {
          "output_type": "stream",
          "name": "stdout",
          "text": [
            "Downloading...\n",
            "From: https://drive.google.com/uc?id=17050A6f0ATXkkmaqB9aI7fxAa8zfHO5C\n",
            "To: /content/CN_HW2_dataset.zip\n",
            "\r  0% 0.00/282k [00:00<?, ?B/s]\r100% 282k/282k [00:00<00:00, 31.4MB/s]\n"
          ]
        }
      ],
      "source": [
        "!gdown 17050A6f0ATXkkmaqB9aI7fxAa8zfHO5C"
      ]
    },
    {
      "cell_type": "code",
      "source": [
        "!unzip /content/CN_HW2_dataset.zip"
      ],
      "metadata": {
        "colab": {
          "base_uri": "https://localhost:8080/"
        },
        "id": "Vcc_aMWFGTMb",
        "outputId": "fa6abfcc-9149-47df-f343-29392f1f7c4e"
      },
      "execution_count": 4,
      "outputs": [
        {
          "output_type": "stream",
          "name": "stdout",
          "text": [
            "Archive:  /content/CN_HW2_dataset.zip\n",
            "  inflating: airports.codes          \n",
            "  inflating: airports.edges          \n",
            "  inflating: bible.edges             \n",
            "  inflating: bible.names             \n",
            "  inflating: name_of_airports.csv    \n"
          ]
        }
      ]
    },
    {
      "cell_type": "code",
      "source": [
        "airport_graph = nx.Graph()\n",
        "\n",
        "with open(\"/content/airports.edges\") as file:\n",
        "  for i, line in enumerate(file.readlines()):\n",
        "    source, destination = line.split()[:2]\n",
        "    airport_graph.add_edge(source, destination)"
      ],
      "metadata": {
        "id": "d_UPzVhXNkaH"
      },
      "execution_count": 5,
      "outputs": []
    },
    {
      "cell_type": "code",
      "source": [
        "bible_graph = nx.Graph()\n",
        "\n",
        "with open(\"/content/bible.edges\") as file:\n",
        "  for i, line in enumerate(file.readlines()):\n",
        "    source, destination = line.split()[:2]\n",
        "    bible_graph.add_edge(source, destination)"
      ],
      "metadata": {
        "id": "9XAwAf7xUNXk"
      },
      "execution_count": 6,
      "outputs": []
    },
    {
      "cell_type": "code",
      "source": [
        "airport_graph.number_of_nodes()"
      ],
      "metadata": {
        "colab": {
          "base_uri": "https://localhost:8080/"
        },
        "id": "0DPAi3HtOX10",
        "outputId": "ca9224c0-f6bd-4ce9-d0a7-a5187b8fc579"
      },
      "execution_count": 7,
      "outputs": [
        {
          "output_type": "execute_result",
          "data": {
            "text/plain": [
              "1574"
            ]
          },
          "metadata": {},
          "execution_count": 7
        }
      ]
    },
    {
      "cell_type": "code",
      "source": [
        "bible_graph.number_of_nodes()"
      ],
      "metadata": {
        "colab": {
          "base_uri": "https://localhost:8080/"
        },
        "id": "s5rnFkr8UWD-",
        "outputId": "89b73595-18a1-4200-da7f-7c39e78bdd49"
      },
      "execution_count": 8,
      "outputs": [
        {
          "output_type": "execute_result",
          "data": {
            "text/plain": [
              "1773"
            ]
          },
          "metadata": {},
          "execution_count": 8
        }
      ]
    },
    {
      "cell_type": "markdown",
      "source": [
        "# Centrality Metric"
      ],
      "metadata": {
        "id": "FWK7l7DqQnLI"
      }
    },
    {
      "cell_type": "code",
      "source": [
        "def closeness(graph):\n",
        "  bigest_component = None\n",
        "  size_bigest_component = -1\n",
        "  for component in nx.connected_components(graph):\n",
        "    if len(component) > size_bigest_component:\n",
        "      size_bigest_component = len(component)\n",
        "      bigest_component = component\n",
        "  \n",
        "  closeness_dict = dict()\n",
        "\n",
        "  n = len(bigest_component)\n",
        "\n",
        "  shortest_path_dict = dict(nx.shortest_path_length(graph))\n",
        "\n",
        "  for node_i in bigest_component:\n",
        "    shortest_path_sum = 0\n",
        "    for node_j in bigest_component:\n",
        "      shortest_path_sum += shortest_path_dict[node_i][node_j]\n",
        "\n",
        "    closeness_dict[node_i] = n / shortest_path_sum\n",
        "\n",
        "  for node in graph.nodes:\n",
        "    if node not in bigest_component:\n",
        "      closeness_dict[node] = 0\n",
        "\n",
        "  return closeness_dict"
      ],
      "metadata": {
        "id": "z_xtNVZyTunm"
      },
      "execution_count": 9,
      "outputs": []
    },
    {
      "cell_type": "code",
      "source": [
        "def efficiency(graph):\n",
        "  nodes = graph.nodes\n",
        "\n",
        "  n = len(nodes)\n",
        "\n",
        "  efficiency_dict = dict()\n",
        "  shortest_path_dict = dict(nx.shortest_path_length(graph))\n",
        "\n",
        "  for node_i in nodes:\n",
        "    inverse_distanec_sum = 0\n",
        "    node_i_component = nx.node_connected_component(graph, node_i)\n",
        "    for node_j in nodes:\n",
        "      if node_j != node_i and node_j in node_i_component:\n",
        "        inverse_distanec_sum += 1/shortest_path_dict[node_i][node_j]\n",
        "\n",
        "      efficiency_dict[node_i] = inverse_distanec_sum/(n-1)\n",
        "  \n",
        "  return efficiency_dict"
      ],
      "metadata": {
        "id": "c3MLCz4QX23o"
      },
      "execution_count": 10,
      "outputs": []
    },
    {
      "cell_type": "code",
      "source": [
        "def degree(graph):\n",
        "  degree_dict = dict()\n",
        "\n",
        "  for node in graph.nodes:\n",
        "    degree_dict[node] = nx.degree(graph, node)\n",
        "  \n",
        "  return degree_dict"
      ],
      "metadata": {
        "id": "FL9Z5Hbep6RG"
      },
      "execution_count": 11,
      "outputs": []
    },
    {
      "cell_type": "code",
      "source": [
        "def katz(graph, alpha=0.1):\n",
        "  A = nx.adjacency_matrix(graph).todense()\n",
        "  n = len(graph)\n",
        "  I = np.identity(n)\n",
        "  K = (np.linalg.inv(I - alpha * A) - I) @ np.full(n, 1)  \n",
        "  degree_dict = dict()\n",
        "  for node, score in zip(graph.nodes, K):\n",
        "    degree_dict[node] = score\n",
        "  return degree_dict"
      ],
      "metadata": {
        "id": "2TdGUOHuqIx2"
      },
      "execution_count": 12,
      "outputs": []
    },
    {
      "cell_type": "markdown",
      "source": [
        "# Results"
      ],
      "metadata": {
        "id": "6sSF9_QTQv2f"
      }
    },
    {
      "cell_type": "code",
      "source": [
        "for metric_name, metric in zip([\"closeness\", \"efficiency\", \"degree\", \"katz\"],\n",
        "                               [closeness, efficiency, degree, katz]):\n",
        "  for graph_name, graph in zip([\"bible\", \"airport\"], [bible_graph, airport_graph]):\n",
        "    scores = metric(graph)\n",
        "    scores = sorted(scores.items(), key=lambda item:item[1], reverse=True)\n",
        "    with open(f\"{graph_name}_{metric_name}.txt\", \"w\") as file:\n",
        "      for id, score in scores: \n",
        "        file.write(f\"{id}: {round(score, 3)}\\n\")"
      ],
      "metadata": {
        "id": "xOE0Nnr4S-Ok"
      },
      "execution_count": null,
      "outputs": []
    },
    {
      "cell_type": "code",
      "source": [
        "for graph_name, graph in zip([\"Bible\", \"Airport\"], [bible_graph, airport_graph]):\n",
        "  fig, ax = plt.subplots(2, 2)\n",
        "\n",
        "  for i, metric_name, metric in zip(range(4),\n",
        "                                [\"closeness\", \"efficiency\", \"degree\", \"katz\"],\n",
        "                                [closeness, efficiency, degree, katz]):\n",
        "    scores = metric(graph)\n",
        "    scores = sorted(scores.items(), key=lambda item:item[1], reverse=True)\n",
        "    scores = [score for (id, score) in scores]\n",
        "    \n",
        "    ax[i//2][i%2].set_ylabel(f\"{metric_name}\")\n",
        "    ax[i//2][i%2].plot(scores)\n",
        "\n",
        "\n",
        "  fig.suptitle(f\"Graph {graph_name}\")\n",
        "  fig.set_size_inches(12,8)\n",
        "  plt.show()"
      ],
      "metadata": {
        "id": "uucFqjKcHjpG",
        "colab": {
          "base_uri": "https://localhost:8080/",
          "height": 1000
        },
        "outputId": "2470e721-0579-4c95-ba07-afdfe17b90f5"
      },
      "execution_count": 19,
      "outputs": [
        {
          "output_type": "display_data",
          "data": {
            "text/plain": [
              "<Figure size 864x576 with 4 Axes>"
            ],
            "image/png": "[encoded data removed]"
          },
          "metadata": {
            "needs_background": "light"
          }
        },
        {
          "output_type": "display_data",
          "data": {
            "text/plain": [
              "<Figure size 864x576 with 4 Axes>"
            ],
            "image/png": "[encoded data removed]"
          },
          "metadata": {
            "needs_background": "light"
          }
        }
      ]
    },
    {
      "cell_type": "code",
      "source": [
        "bible_names = pd.read_csv(\"/content/bible.names\", delimiter=\" \", index_col=0)\n",
        "airport_name = pd.read_csv(\"/content/airports.codes\", delimiter=\" \", index_col=0)\n",
        "airport_description = pd.read_csv(\"/content/name_of_airports.csv\", index_col=0)"
      ],
      "metadata": {
        "id": "EuWkgIbqHJgS"
      },
      "execution_count": 14,
      "outputs": []
    },
    {
      "cell_type": "code",
      "source": [
        "for metric_name, metric in zip([\"closeness\", \"efficiency\", \"degree\", \"katz\"],\n",
        "                                [closeness, efficiency, degree, katz]):\n",
        "  print(f\"{metric_name}:\")\n",
        "  scores = metric(bible_graph)\n",
        "  scores = sorted(scores.items(), key=lambda item:item[1], reverse=True)[:10]\n",
        "\n",
        "  for id, score in scores:\n",
        "    name = bible_names.loc[int(id)][\"biblicalNouns\"]\n",
        "    print(f\"id = {id}, score={score}, name={name}\")"
      ],
      "metadata": {
        "colab": {
          "base_uri": "https://localhost:8080/"
        },
        "id": "me7KwDueOsKt",
        "outputId": "47cfa73b-4944-4f5e-f598-672c0d284652"
      },
      "execution_count": 28,
      "outputs": [
        {
          "output_type": "stream",
          "name": "stdout",
          "text": [
            "closeness:\n",
            "id = 1, score=0.5032429245283019, name=israel\n",
            "id = 2, score=0.4712865819988956, name=judah\n",
            "id = 3, score=0.45850120870265915, name=jerusalem\n",
            "id = 4, score=0.45653918159935813, name=david\n",
            "id = 10, score=0.4291101055806938, name=egypt\n",
            "id = 27, score=0.42814145974416856, name=ephraim\n",
            "id = 29, score=0.4256857855361596, name=manasseh\n",
            "id = 19, score=0.42536755544480437, name=benjamin\n",
            "id = 34, score=0.4204433497536946, name=joseph\n",
            "id = 6, score=0.4203398177788722, name=moses\n",
            "efficiency:\n",
            "id = 1, score=0.5534236267870628, name=israel\n",
            "id = 2, score=0.511042136945077, name=judah\n",
            "id = 4, score=0.4956734386757014, name=david\n",
            "id = 3, score=0.49256019563582176, name=jerusalem\n",
            "id = 10, score=0.4542983446200214, name=egypt\n",
            "id = 27, score=0.45036681715576155, name=ephraim\n",
            "id = 19, score=0.4495861550037672, name=benjamin\n",
            "id = 29, score=0.4490312264860849, name=manasseh\n",
            "id = 6, score=0.4419394281414654, name=moses\n",
            "id = 34, score=0.4414597441685534, name=joseph\n",
            "degree:\n",
            "id = 1, score=364, name=israel\n",
            "id = 2, score=254, name=judah\n",
            "id = 4, score=221, name=david\n",
            "id = 3, score=202, name=jerusalem\n",
            "id = 10, score=122, name=egypt\n",
            "id = 19, score=110, name=benjamin\n",
            "id = 29, score=108, name=manasseh\n",
            "id = 27, score=104, name=ephraim\n",
            "id = 5, score=103, name=saul\n",
            "id = 17, score=100, name=philistines\n",
            "katz:\n",
            "id = 19, score=277.3429479535571, name=benjamin\n",
            "id = 326, score=255.60728920086962, name=elam\n",
            "id = 171, score=219.31265675784834, name=shem\n",
            "id = 294, score=213.778938697034, name=shemaiah\n",
            "id = 522, score=202.73041028122972, name=uz\n",
            "id = 473, score=198.74821273261355, name=aram\n",
            "id = 422, score=194.0023564376202, name=arphaxad\n",
            "id = 227, score=193.39933620618092, name=meshech\n",
            "id = 559, score=180.99543400008716, name=lud\n",
            "id = 681, score=169.81176794520832, name=gether\n"
          ]
        }
      ]
    },
    {
      "cell_type": "code",
      "source": [
        "airport_codes = []\n",
        "for metric_name, metric in zip([\"closeness\", \"efficiency\", \"degree\", \"katz\"],\n",
        "                                [closeness, efficiency, degree, katz]):\n",
        "  print(f\"{metric_name}:\")\n",
        "  scores = metric(airport_graph)\n",
        "  scores = sorted(scores.items(), key=lambda item:item[1], reverse=True)[:10]\n",
        "\n",
        "  for id, score in scores:\n",
        "    name = airport_name.loc[int(id)][\"AirportName\"]\n",
        "    print(f\"id = {id}, score={score}, name={name}\")\n",
        "    airport_codes.append(name)\n",
        "\n",
        "print(\"Airport Description:\")\n",
        "for airport_code in sorted(set(airport_codes)):\n",
        "  description = airport_description.loc[airport_code][\"Description\"]\n",
        "  print(f\"code = {airport_code}, description = {description}\") "
      ],
      "metadata": {
        "colab": {
          "base_uri": "https://localhost:8080/"
        },
        "id": "StSLA8MkVeBM",
        "outputId": "94805a45-b6cc-4f2e-d15b-accaf9afe524"
      },
      "execution_count": 15,
      "outputs": [
        {
          "output_type": "stream",
          "name": "stdout",
          "text": [
            "closeness:\n",
            "id = 114, score=0.4987309644670051, name=ATL\n",
            "id = 877, score=0.49558638083228246, name=LAX\n",
            "id = 1068, score=0.4951181102362205, name=MSP\n",
            "id = 389, score=0.4909431605246721, name=DEN\n",
            "id = 709, score=0.4903306300686213, name=IAD\n",
            "id = 766, score=0.48608534322820035, name=JFK\n",
            "id = 982, score=0.485935085007728, name=MCO\n",
            "id = 1200, score=0.484736355226642, name=ORD\n",
            "id = 500, score=0.4822085889570552, name=EWR\n",
            "id = 711, score=0.48161764705882354, name=IAH\n",
            "efficiency:\n",
            "id = 114, score=0.5660309387582153, name=ATL\n",
            "id = 877, score=0.5594087730451397, name=LAX\n",
            "id = 709, score=0.5572155117609695, name=IAD\n",
            "id = 1068, score=0.5541110404746794, name=MSP\n",
            "id = 766, score=0.5529349438440387, name=JFK\n",
            "id = 1200, score=0.5526806526806569, name=ORD\n",
            "id = 389, score=0.552436956982415, name=DEN\n",
            "id = 500, score=0.5462386098749774, name=EWR\n",
            "id = 711, score=0.5444161898707387, name=IAH\n",
            "id = 982, score=0.5398813307904243, name=MCO\n",
            "degree:\n",
            "id = 114, score=314, name=ATL\n",
            "id = 709, score=299, name=IAD\n",
            "id = 1200, score=296, name=ORD\n",
            "id = 877, score=292, name=LAX\n",
            "id = 766, score=291, name=JFK\n",
            "id = 389, score=274, name=DEN\n",
            "id = 500, score=273, name=EWR\n",
            "id = 1068, score=269, name=MSP\n",
            "id = 711, score=267, name=IAH\n",
            "id = 1016, score=261, name=MIA\n",
            "katz:\n",
            "id = 875, score=52.33497215991894, name=LAS\n",
            "id = 1411, score=47.13159297201886, name=SBN\n",
            "id = 452, score=40.97016361570583, name=ECP\n",
            "id = 1374, score=39.37481022517082, name=ROA\n",
            "id = 246, score=38.728121898434296, name=BWI\n",
            "id = 435, score=38.567398658076726, name=DTW\n",
            "id = 344, score=38.540131263153896, name=CRW\n",
            "id = 731, score=36.88415604013797, name=IND\n",
            "id = 1462, score=35.94155764930539, name=SJU\n",
            "id = 1611, score=32.43087062110013, name=TOL\n",
            "Airport Description:\n",
            "code = ATL, description = Atlanta, GA: Hartsfield-Jackson Atlanta International\n",
            "code = BWI, description = Baltimore, MD: Baltimore/Washington International Thurgood Marshall\n",
            "code = CRW, description = Charleston/Dunbar, WV: Yeager\n",
            "code = DEN, description = Denver, CO: Denver International\n",
            "code = DTW, description = Detroit, MI: Detroit Metro Wayne County\n",
            "code = ECP, description = Panama City, FL: Northwest Florida Beaches International\n",
            "code = EWR, description = Newark, NJ: Newark Liberty International\n",
            "code = IAD, description = Washington, DC: Washington Dulles International\n",
            "code = IAH, description = Houston, TX: George Bush Intercontinental/Houston\n",
            "code = IND, description = Indianapolis, IN: Indianapolis International\n",
            "code = JFK, description = New York, NY: John F. Kennedy International\n",
            "code = LAS, description = Las Vegas, NV: McCarran International\n",
            "code = LAX, description = Los Angeles, CA: Los Angeles International\n",
            "code = MCO, description = Orlando, FL: Orlando International\n",
            "code = MIA, description = Miami, FL: Miami International\n",
            "code = MSP, description = Minneapolis, MN: Minneapolis-St Paul International\n",
            "code = ORD, description = Chicago, IL: Chicago O'Hare International\n",
            "code = ROA, description = Roanoke, VA: Roanoke Blacksburg Regional Woodrum Field\n",
            "code = SBN, description = South Bend, IN: South Bend International\n",
            "code = SJU, description = San Juan, PR: Luis Munoz Marin International\n",
            "code = TOL, description = Toledo, OH: Toledo Express\n"
          ]
        }
      ]
    }
  ]
}