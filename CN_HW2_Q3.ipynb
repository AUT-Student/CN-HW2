{
  "nbformat": 4,
  "nbformat_minor": 0,
  "metadata": {
    "colab": {
      "provenance": [],
      "toc_visible": true,
      "authorship_tag": "ABX9TyMS7WURdGHr57b0mIKp0yXP",
      "include_colab_link": true
    },
    "kernelspec": {
      "name": "python3",
      "display_name": "Python 3"
    },
    "language_info": {
      "name": "python"
    }
  },
  "cells": [
    {
      "cell_type": "markdown",
      "metadata": {
        "id": "view-in-github",
        "colab_type": "text"
      },
      "source": [
        "<a href=\"https://colab.research.google.com/github/AUT-Student/CN-HW2/blob/main/CN_HW2_Q3.ipynb\" target=\"_parent\"><img src=\"https://colab.research.google.com/assets/colab-badge.svg\" alt=\"Open In Colab\"/></a>"
      ]
    },
    {
      "cell_type": "markdown",
      "source": [
        "<center><b>In the name of God</b></center>\n",
        "\n",
        "<b>Course</b>: Complex Network\n",
        "<br>\n",
        "<b>Description:</b> HomeWork 2 | Question 3\n",
        "<br>\n",
        "<b>Developer</b>: Alireza Mazochi (400131075)"
      ],
      "metadata": {
        "id": "QLcWpIhNcJq6"
      }
    },
    {
      "cell_type": "markdown",
      "source": [
        "# Libraries"
      ],
      "metadata": {
        "id": "8e4FMuq2cTWJ"
      }
    },
    {
      "cell_type": "code",
      "source": [
        "import networkx as nx\n",
        "import numpy as np\n",
        "import pandas as pd\n",
        "import matplotlib.pyplot as plt\n",
        "from sklearn.cluster import KMeans, DBSCAN"
      ],
      "metadata": {
        "id": "CA-RJEnncJ6W"
      },
      "execution_count": 1,
      "outputs": []
    },
    {
      "cell_type": "code",
      "source": [
        "!pip install --upgrade scipy networkx"
      ],
      "metadata": {
        "colab": {
          "base_uri": "https://localhost:8080/"
        },
        "id": "7TgY8wrbdCdI",
        "outputId": "85c7abef-93c5-4c93-f50c-bba5c52ea894"
      },
      "execution_count": 2,
      "outputs": [
        {
          "output_type": "stream",
          "name": "stdout",
          "text": [
            "Looking in indexes: https://pypi.org/simple, https://us-python.pkg.dev/colab-wheels/public/simple/\n",
            "Requirement already satisfied: scipy in /usr/local/lib/python3.8/dist-packages (1.7.3)\n",
            "Collecting scipy\n",
            "  Downloading scipy-1.10.0-cp38-cp38-manylinux_2_17_x86_64.manylinux2014_x86_64.whl (34.5 MB)\n",
            "\u001b[2K     \u001b[90m━━━━━━━━━━━━━━━━━━━━━━━━━━━━━━━━━━━━━━━━\u001b[0m \u001b[32m34.5/34.5 MB\u001b[0m \u001b[31m23.5 MB/s\u001b[0m eta \u001b[36m0:00:00\u001b[0m\n",
            "\u001b[?25hRequirement already satisfied: networkx in /usr/local/lib/python3.8/dist-packages (3.0)\n",
            "Requirement already satisfied: numpy<1.27.0,>=1.19.5 in /usr/local/lib/python3.8/dist-packages (from scipy) (1.21.6)\n",
            "Installing collected packages: scipy\n",
            "  Attempting uninstall: scipy\n",
            "    Found existing installation: scipy 1.7.3\n",
            "    Uninstalling scipy-1.7.3:\n",
            "      Successfully uninstalled scipy-1.7.3\n",
            "Successfully installed scipy-1.10.0\n"
          ]
        }
      ]
    },
    {
      "cell_type": "markdown",
      "source": [
        "# Dataset"
      ],
      "metadata": {
        "id": "MZ1Iyw1DGToy"
      }
    },
    {
      "cell_type": "code",
      "execution_count": 2,
      "metadata": {
        "colab": {
          "base_uri": "https://localhost:8080/"
        },
        "id": "u6-mqNLMEg-3",
        "outputId": "7a338dff-430d-4f3f-c5fa-33ccf4f9d31c"
      },
      "outputs": [
        {
          "output_type": "stream",
          "name": "stdout",
          "text": [
            "Downloading...\n",
            "From: https://drive.google.com/uc?id=17050A6f0ATXkkmaqB9aI7fxAa8zfHO5C\n",
            "To: /content/CN_HW2_dataset.zip\n",
            "\r  0% 0.00/282k [00:00<?, ?B/s]\r100% 282k/282k [00:00<00:00, 52.8MB/s]\n"
          ]
        }
      ],
      "source": [
        "!gdown 17050A6f0ATXkkmaqB9aI7fxAa8zfHO5C"
      ]
    },
    {
      "cell_type": "code",
      "source": [
        "!unzip /content/CN_HW2_dataset.zip"
      ],
      "metadata": {
        "colab": {
          "base_uri": "https://localhost:8080/"
        },
        "id": "Vcc_aMWFGTMb",
        "outputId": "df3c4700-9f4c-431b-9997-924b4449a82a"
      },
      "execution_count": 3,
      "outputs": [
        {
          "output_type": "stream",
          "name": "stdout",
          "text": [
            "Archive:  /content/CN_HW2_dataset.zip\n",
            "replace airports.codes? [y]es, [n]o, [A]ll, [N]one, [r]ename: A\n",
            "  inflating: airports.codes          \n",
            "  inflating: airports.edges          \n",
            "  inflating: bible.edges             \n",
            "  inflating: bible.names             \n",
            "  inflating: name_of_airports.csv    \n"
          ]
        }
      ]
    },
    {
      "cell_type": "code",
      "source": [
        "graph = nx.Graph()\n",
        "\n",
        "with open(\"/content/bible.edges\") as file:\n",
        "  for i, line in enumerate(file.readlines()):\n",
        "    source, destination = line.split()[:2]\n",
        "    graph.add_edge(source, destination)"
      ],
      "metadata": {
        "id": "d_UPzVhXNkaH"
      },
      "execution_count": 4,
      "outputs": []
    },
    {
      "cell_type": "markdown",
      "source": [
        "# Laplace Matrix"
      ],
      "metadata": {
        "id": "abAuqEH4sCf1"
      }
    },
    {
      "cell_type": "code",
      "source": [
        "def Laplace(graph):\n",
        "  A = nx.adjacency_matrix(graph).todense()\n",
        "  D = np.zeros((nx.number_of_nodes(graph), nx.number_of_nodes(graph)))\n",
        "\n",
        "  i = 0\n",
        "  for (node, val) in graph.degree():\n",
        "    D[i,i] = val\n",
        "    i += 1\n",
        "  \n",
        "  return D - A"
      ],
      "metadata": {
        "id": "l6CYOtZ2hjyT"
      },
      "execution_count": 5,
      "outputs": []
    },
    {
      "cell_type": "code",
      "source": [
        "laplace_graph = Laplace(graph)"
      ],
      "metadata": {
        "id": "FMYqS5Ricrtl"
      },
      "execution_count": 6,
      "outputs": []
    },
    {
      "cell_type": "markdown",
      "source": [
        "# Eigen Vector"
      ],
      "metadata": {
        "id": "Ii-EVcQu0Hwl"
      }
    },
    {
      "cell_type": "code",
      "source": [
        "values, vectors = np.linalg.eig(laplace_graph)"
      ],
      "metadata": {
        "id": "9Ms-x7UqhNF_"
      },
      "execution_count": 7,
      "outputs": []
    },
    {
      "cell_type": "code",
      "source": [
        "idx = values.argsort()[::-1]   \n",
        "values = values[idx]\n",
        "vectors = vectors[:,idx]"
      ],
      "metadata": {
        "id": "DG64SXlrdql3"
      },
      "execution_count": 8,
      "outputs": []
    },
    {
      "cell_type": "code",
      "source": [
        "ss_vector = np.array([float(x) for x in vectors[-2]])"
      ],
      "metadata": {
        "colab": {
          "base_uri": "https://localhost:8080/"
        },
        "id": "m8SSeXI_c71c",
        "outputId": "a887eb09-d36c-46e7-dcbe-825ec1f0dfbb"
      },
      "execution_count": 9,
      "outputs": [
        {
          "output_type": "stream",
          "name": "stderr",
          "text": [
            "<ipython-input-9-e2c5cb249bbb>:1: ComplexWarning: Casting complex values to real discards the imaginary part\n",
            "  ss_vector = np.array([float(x) for x in vectors[-2]])\n"
          ]
        }
      ]
    },
    {
      "cell_type": "markdown",
      "source": [
        "# Modularity & Cut"
      ],
      "metadata": {
        "id": "fT04TNq80Ma6"
      }
    },
    {
      "cell_type": "code",
      "source": [
        "def modularity(graph, clusters):\n",
        "  m = graph.number_of_edges()\n",
        "  output = 0\n",
        "  for cluster in set(clusters):\n",
        "    cluster_nodes = []\n",
        "    for i, node in enumerate(graph.nodes()):\n",
        "      if cluster == clusters[i]:\n",
        "        cluster_nodes.append(node)\n",
        "\n",
        "    for node_i in cluster_nodes:\n",
        "      for node_j in cluster_nodes:\n",
        "        Aij = int(graph.has_edge(node_i, node_j))\n",
        "        ki = graph.degree(node_i)\n",
        "        kj = graph.degree(node_j)\n",
        "        output += Aij - (ki*kj)/(2*m)\n",
        "  \n",
        "  output/=2*m\n",
        "  return output"
      ],
      "metadata": {
        "id": "Kd0w_5neq8P6"
      },
      "execution_count": 10,
      "outputs": []
    },
    {
      "cell_type": "code",
      "source": [
        "def cut(graph, clusters):\n",
        "  output = 0\n",
        "  for i, node_i in enumerate(graph.nodes()):\n",
        "    for j, node_j in enumerate(graph.nodes()):\n",
        "      if i<j and clusters[i]!=clusters[j] and graph.has_edge(node_i, node_j):\n",
        "        output += 1\n",
        "\n",
        "  return output"
      ],
      "metadata": {
        "id": "i6hgtKUH_bfW"
      },
      "execution_count": 11,
      "outputs": []
    },
    {
      "cell_type": "markdown",
      "source": [
        "# Results"
      ],
      "metadata": {
        "id": "PKTxHI4GAj7K"
      }
    },
    {
      "cell_type": "code",
      "source": [
        "modularity_scores = list()\n",
        "cut_scores = list()\n",
        "for n_clusters in range(1, 100):\n",
        "  kmeans = KMeans(n_clusters=n_clusters, random_state=0).fit(ss_vector.reshape(-1, 1))\n",
        "  modularity_score = modularity(graph, kmeans.labels_)\n",
        "  cut_score = cut(graph, kmeans.labels_)\n",
        "\n",
        "  modularity_scores.append(modularity_score)\n",
        "  cut_scores.append(cut_score)"
      ],
      "metadata": {
        "id": "BJ2DeMVBmpqi"
      },
      "execution_count": 23,
      "outputs": []
    },
    {
      "cell_type": "code",
      "source": [
        "plt.scatter(range(1, 100), modularity_scores)\n",
        "plt.plot(range(1, 100), modularity_scores)\n",
        "\n",
        "plt.title(\"Modularity Score Changes\")\n",
        "plt.xlabel(\"Number Cluster\")\n",
        "plt.ylabel(\"Modularity\")\n",
        "plt.gcf().set_size_inches(8, 6)\n",
        "plt.show()"
      ],
      "metadata": {
        "colab": {
          "base_uri": "https://localhost:8080/",
          "height": 404
        },
        "id": "ByMZI045uQ0o",
        "outputId": "abaf7eae-97d3-4d72-b864-8d3dce483446"
      },
      "execution_count": 31,
      "outputs": [
        {
          "output_type": "display_data",
          "data": {
            "text/plain": [
              "<Figure size 576x432 with 1 Axes>"
            ],
            "image/png": "[encoded data removed]"
          },
          "metadata": {
            "needs_background": "light"
          }
        }
      ]
    },
    {
      "cell_type": "code",
      "source": [
        "np.argmax(modularity_scores)"
      ],
      "metadata": {
        "colab": {
          "base_uri": "https://localhost:8080/"
        },
        "id": "RimYD10k9rc9",
        "outputId": "b0e4e04b-e236-4780-ddfa-3ac3094a8509"
      },
      "execution_count": 26,
      "outputs": [
        {
          "output_type": "execute_result",
          "data": {
            "text/plain": [
              "54"
            ]
          },
          "metadata": {},
          "execution_count": 26
        }
      ]
    },
    {
      "cell_type": "code",
      "source": [
        "modularity_scores[54]"
      ],
      "metadata": {
        "colab": {
          "base_uri": "https://localhost:8080/"
        },
        "id": "KC9_UtIT98By",
        "outputId": "c6900eb3-2f9d-4617-fd51-1a3f02b04f3c"
      },
      "execution_count": 27,
      "outputs": [
        {
          "output_type": "execute_result",
          "data": {
            "text/plain": [
              "0.009728892757417238"
            ]
          },
          "metadata": {},
          "execution_count": 27
        }
      ]
    },
    {
      "cell_type": "code",
      "source": [
        "cut_scores[54]"
      ],
      "metadata": {
        "colab": {
          "base_uri": "https://localhost:8080/"
        },
        "id": "W198Sl6P-Bzn",
        "outputId": "7efe67c0-2097-401c-f08e-daa3a1b29dfd"
      },
      "execution_count": 28,
      "outputs": [
        {
          "output_type": "execute_result",
          "data": {
            "text/plain": [
              "5291"
            ]
          },
          "metadata": {},
          "execution_count": 28
        }
      ]
    }
  ]
}