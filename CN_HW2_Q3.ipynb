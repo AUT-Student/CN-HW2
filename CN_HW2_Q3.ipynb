{
  "nbformat": 4,
  "nbformat_minor": 0,
  "metadata": {
    "colab": {
      "provenance": [],
      "authorship_tag": "ABX9TyMUPD4JMQLi4OI6V87T5AZq",
      "include_colab_link": true
    },
    "kernelspec": {
      "name": "python3",
      "display_name": "Python 3"
    },
    "language_info": {
      "name": "python"
    }
  },
  "cells": [
    {
      "cell_type": "markdown",
      "metadata": {
        "id": "view-in-github",
        "colab_type": "text"
      },
      "source": [
        "<a href=\"https://colab.research.google.com/github/AUT-Student/CN-HW2/blob/main/CN_HW2_Q3.ipynb\" target=\"_parent\"><img src=\"https://colab.research.google.com/assets/colab-badge.svg\" alt=\"Open In Colab\"/></a>"
      ]
    },
    {
      "cell_type": "markdown",
      "source": [
        "<center><b>In the name of God</b></center>\n",
        "\n",
        "<b>Course</b>: Complex Network\n",
        "<br>\n",
        "<b>Description:</b> HomeWork 2 | Question 3\n",
        "<br>\n",
        "<b>Developer</b>: Alireza Mazochi (400131075)"
      ],
      "metadata": {
        "id": "QLcWpIhNcJq6"
      }
    },
    {
      "cell_type": "markdown",
      "source": [
        "# Libraries"
      ],
      "metadata": {
        "id": "8e4FMuq2cTWJ"
      }
    },
    {
      "cell_type": "code",
      "source": [
        "import networkx as nx\n",
        "import numpy as np\n",
        "import pandas as pd\n",
        "import matplotlib.pyplot as plt\n",
        "from sklearn.cluster import KMeans"
      ],
      "metadata": {
        "id": "CA-RJEnncJ6W"
      },
      "execution_count": 47,
      "outputs": []
    },
    {
      "cell_type": "code",
      "source": [
        "!pip install --upgrade scipy networkx"
      ],
      "metadata": {
        "colab": {
          "base_uri": "https://localhost:8080/"
        },
        "id": "7TgY8wrbdCdI",
        "outputId": "4c1b81b0-0f1d-4171-ae64-250483e7dd96"
      },
      "execution_count": 8,
      "outputs": [
        {
          "output_type": "stream",
          "name": "stdout",
          "text": [
            "Looking in indexes: https://pypi.org/simple, https://us-python.pkg.dev/colab-wheels/public/simple/\n",
            "Requirement already satisfied: scipy in /usr/local/lib/python3.8/dist-packages (1.7.3)\n",
            "Collecting scipy\n",
            "  Downloading scipy-1.10.0-cp38-cp38-manylinux_2_17_x86_64.manylinux2014_x86_64.whl (34.5 MB)\n",
            "\u001b[2K     \u001b[90m━━━━━━━━━━━━━━━━━━━━━━━━━━━━━━━━━━━━━━━━\u001b[0m \u001b[32m34.5/34.5 MB\u001b[0m \u001b[31m35.8 MB/s\u001b[0m eta \u001b[36m0:00:00\u001b[0m\n",
            "\u001b[?25hRequirement already satisfied: networkx in /usr/local/lib/python3.8/dist-packages (3.0)\n",
            "Requirement already satisfied: numpy<1.27.0,>=1.19.5 in /usr/local/lib/python3.8/dist-packages (from scipy) (1.21.6)\n",
            "Installing collected packages: scipy\n",
            "  Attempting uninstall: scipy\n",
            "    Found existing installation: scipy 1.7.3\n",
            "    Uninstalling scipy-1.7.3:\n",
            "      Successfully uninstalled scipy-1.7.3\n",
            "Successfully installed scipy-1.10.0\n"
          ]
        }
      ]
    },
    {
      "cell_type": "markdown",
      "source": [
        "# Dataset"
      ],
      "metadata": {
        "id": "MZ1Iyw1DGToy"
      }
    },
    {
      "cell_type": "code",
      "execution_count": 2,
      "metadata": {
        "colab": {
          "base_uri": "https://localhost:8080/"
        },
        "id": "u6-mqNLMEg-3",
        "outputId": "486ed47b-b033-4076-fd2a-4f7416de4a0f"
      },
      "outputs": [
        {
          "output_type": "stream",
          "name": "stdout",
          "text": [
            "Downloading...\n",
            "From: https://drive.google.com/uc?id=17050A6f0ATXkkmaqB9aI7fxAa8zfHO5C\n",
            "To: /content/CN_HW2_dataset.zip\n",
            "\r  0% 0.00/282k [00:00<?, ?B/s]\r100% 282k/282k [00:00<00:00, 92.9MB/s]\n"
          ]
        }
      ],
      "source": [
        "!gdown 17050A6f0ATXkkmaqB9aI7fxAa8zfHO5C"
      ]
    },
    {
      "cell_type": "code",
      "source": [
        "!unzip /content/CN_HW2_dataset.zip"
      ],
      "metadata": {
        "colab": {
          "base_uri": "https://localhost:8080/"
        },
        "id": "Vcc_aMWFGTMb",
        "outputId": "0ed26a17-c9a5-4557-f563-05a549ccadbe"
      },
      "execution_count": 3,
      "outputs": [
        {
          "output_type": "stream",
          "name": "stdout",
          "text": [
            "Archive:  /content/CN_HW2_dataset.zip\n",
            "  inflating: airports.codes          \n",
            "  inflating: airports.edges          \n",
            "  inflating: bible.edges             \n",
            "  inflating: bible.names             \n",
            "  inflating: name_of_airports.csv    \n"
          ]
        }
      ]
    },
    {
      "cell_type": "code",
      "source": [
        "graph = nx.Graph()\n",
        "\n",
        "with open(\"/content/airports.edges\") as file:\n",
        "  for i, line in enumerate(file.readlines()):\n",
        "    source, destination = line.split()[:2]\n",
        "    graph.add_edge(source, destination)"
      ],
      "metadata": {
        "id": "d_UPzVhXNkaH"
      },
      "execution_count": 2,
      "outputs": []
    },
    {
      "cell_type": "code",
      "source": [
        "def Laplace(graph):\n",
        "  A = nx.adjacency_matrix(graph).todense()\n",
        "  D = np.zeros((nx.number_of_nodes(graph), nx.number_of_nodes(graph)))\n",
        "\n",
        "  i = 0\n",
        "  for (node, val) in graph.degree():\n",
        "    D[i,i] = val\n",
        "    i += 1\n",
        "  \n",
        "  return D - A"
      ],
      "metadata": {
        "id": "l6CYOtZ2hjyT"
      },
      "execution_count": 17,
      "outputs": []
    },
    {
      "cell_type": "code",
      "source": [
        "laplace_graph = Laplace(graph)"
      ],
      "metadata": {
        "id": "FMYqS5Ricrtl"
      },
      "execution_count": 18,
      "outputs": []
    },
    {
      "cell_type": "code",
      "source": [
        "values, vectors = np.linalg.eig(laplace_graph)"
      ],
      "metadata": {
        "id": "9Ms-x7UqhNF_"
      },
      "execution_count": 23,
      "outputs": []
    },
    {
      "cell_type": "code",
      "source": [
        "ss_vector = np.array([float(x) for x in vectors[-2]])"
      ],
      "metadata": {
        "colab": {
          "base_uri": "https://localhost:8080/"
        },
        "id": "m8SSeXI_c71c",
        "outputId": "e254a607-3aec-461b-f320-071644687749"
      },
      "execution_count": 33,
      "outputs": [
        {
          "output_type": "stream",
          "name": "stderr",
          "text": [
            "<ipython-input-33-e2c5cb249bbb>:1: ComplexWarning: Casting complex values to real discards the imaginary part\n",
            "  ss_vector = np.array([float(x) for x in vectors[-2]])\n"
          ]
        }
      ]
    },
    {
      "cell_type": "code",
      "source": [
        "kmeans = KMeans(n_clusters=5, random_state=0).fit(ss_vector.reshape(-1, 1))"
      ],
      "metadata": {
        "id": "-WlVEA5Fnt_k"
      },
      "execution_count": 60,
      "outputs": []
    },
    {
      "cell_type": "code",
      "source": [
        "colors = [\"red\", \"blue\", \"green\", \"orange\", \"gray\"]\n",
        "\n",
        "plt.title(\"Clusters\")\n",
        "plt.xlabel(\"\")\n",
        "plt.scatter(ss_vector, np.zeros(len(ss_vector)), s=1, c=[colors[label] for label in kmeans.labels_])\n",
        "plt.yticks([])\n",
        "plt.gcf().set_size_inches(8, 2)\n",
        "plt.show()"
      ],
      "metadata": {
        "colab": {
          "base_uri": "https://localhost:8080/",
          "height": 157
        },
        "id": "k5Q5T0bMqXB1",
        "outputId": "7d2f5e72-0f41-4560-9a07-8adc8220b03c"
      },
      "execution_count": 66,
      "outputs": [
        {
          "output_type": "display_data",
          "data": {
            "text/plain": [
              "<Figure size 576x144 with 1 Axes>"
            ],
            "image/png": "[encoded data removed]"
          },
          "metadata": {
            "needs_background": "light"
          }
        }
      ]
    },
    {
      "cell_type": "code",
      "source": [],
      "metadata": {
        "id": "Kd0w_5neq8P6"
      },
      "execution_count": null,
      "outputs": []
    }
  ]
}